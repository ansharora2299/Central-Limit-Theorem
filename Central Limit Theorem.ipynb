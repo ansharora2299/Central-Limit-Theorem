{
 "cells": [
  {
   "cell_type": "code",
   "execution_count": 72,
   "metadata": {},
   "outputs": [
    {
     "data": {
      "image/png": "[encoded data removed]",
      "text/plain": [
       "<Figure size 432x288 with 1 Axes>"
      ]
     },
     "metadata": {
      "needs_background": "light"
     },
     "output_type": "display_data"
    },
    {
     "name": "stdout",
     "output_type": "stream",
     "text": [
      "The average weight is 69.4598 kg\n"
     ]
    },
    {
     "data": {
      "image/png": "[encoded data removed]",
      "text/plain": [
       "<Figure size 432x288 with 1 Axes>"
      ]
     },
     "metadata": {
      "needs_background": "light"
     },
     "output_type": "display_data"
    },
    {
     "name": "stdout",
     "output_type": "stream",
     "text": [
      "The mean of the sample means is 69.4588\n"
     ]
    }
   ],
   "source": [
    "from numpy.random import seed\n",
    "from numpy.random import randint\n",
    "from numpy import mean\n",
    "import random\n",
    "import matplotlib.pyplot as plt\n",
    "# seed the random number generator, so that the experiment is replicable\n",
    "seed(1)\n",
    "# generate a sample of men's weights\n",
    "weights = list(randint(50, 90, 10000))\n",
    "#plot the distribution of weights\n",
    "plt.hist(weights)\n",
    "plt.show()\n",
    "#print the mean of population\n",
    "print('The average weight is {} kg'.format(mean(weights)))\n",
    "# calculate the mean of 50 men's weights(sample size) 100 times(number of samples)\n",
    "means = [mean(random.sample(weights,50)) for i in range(100)]\n",
    "# plot the distribution of sample means\n",
    "plt.hist(means)\n",
    "plt.show()\n",
    "#print the mean of sample means\n",
    "print('The mean of the sample means is {}'.format(mean(means)))"
   ]
  },
  {
   "cell_type": "code",
   "execution_count": 73,
   "metadata": {},
   "outputs": [
    {
     "name": "stdout",
     "output_type": "stream",
     "text": [
      "Statistics=0.9892467260360718, p=0.6040815114974976\n",
      "Sample looks Normal (do not reject H0)\n"
     ]
    }
   ],
   "source": [
    "from scipy.stats import shapiro\n",
    "# To check if the sample mean distribution is normal, we use Shapiro-Wilk test\n",
    "stat, p = shapiro(means)\n",
    "print('Statistics={}, p={}'.format(stat, p))\n",
    "alpha = 0.05\n",
    "# H0: data follow a Normal distribution\n",
    "# H1: data do not follow a Normal distribution\n",
    "if p > alpha:\n",
    "    print('Sample looks Normal (do not reject H0)')\n",
    "else:\n",
    "    print('Sample does not look Normal (reject H0)')"
   ]
  }
 ],
 "metadata": {
  "kernelspec": {
   "display_name": "Python 3",
   "language": "python",
   "name": "python3"
  },
  "language_info": {
   "codemirror_mode": {
    "name": "ipython",
    "version": 3
   },
   "file_extension": ".py",
   "mimetype": "text/x-python",
   "name": "python",
   "nbconvert_exporter": "python",
   "pygments_lexer": "ipython3",
   "version": "3.7.2"
  }
 },
 "nbformat": 4,
 "nbformat_minor": 2
}
