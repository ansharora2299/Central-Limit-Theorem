{
 "cells": [
  {
   "cell_type": "code",
   "execution_count": 13,
   "metadata": {},
   "outputs": [
    {
     "data": {
      "image/png": "[encoded data removed]",
      "text/plain": [
       "<Figure size 432x288 with 1 Axes>"
      ]
     },
     "metadata": {
      "needs_background": "light"
     },
     "output_type": "display_data"
    },
    {
     "name": "stdout",
     "output_type": "stream",
     "text": [
      "The mean weight is 69.4598 kg\n"
     ]
    },
    {
     "data": {
      "image/png": "[encoded data removed]",
      "text/plain": [
       "<Figure size 432x288 with 1 Axes>"
      ]
     },
     "metadata": {
      "needs_background": "light"
     },
     "output_type": "display_data"
    },
    {
     "name": "stdout",
     "output_type": "stream",
     "text": [
      "The mean of the sample means is 69.3848\n"
     ]
    }
   ],
   "source": [
    "# Libraries\n",
    "import random\n",
    "from numpy.random import seed\n",
    "import matplotlib.pyplot as plt\n",
    "from numpy import mean\n",
    "from numpy.random import randint\n",
    "# seed for the random number generator\n",
    "seed(1)\n",
    "# generate a list of men's weights using randint\n",
    "wts = list(randint(50, 90, 10000))\n",
    "#plot the distribution of weights\n",
    "plt.hist(wts)\n",
    "plt.show()\n",
    "#print the mean of population\n",
    "print('The mean weight is {} kg'.format(mean(wts)))\n",
    "# calculate the mean of 50 men's weights(sample size) 100 times(number of samples)\n",
    "smplmn = list(mean(random.sample(wts,50)) for i in range(100))\n",
    "# plot the distribution of sample means\n",
    "plt.hist(smplmn)\n",
    "plt.show()\n",
    "#print the mean of sample means\n",
    "print('The mean of the sample means is {}'.format(mean(smplmn)))"
   ]
  },
  {
   "cell_type": "code",
   "execution_count": 14,
   "metadata": {},
   "outputs": [
    {
     "name": "stdout",
     "output_type": "stream",
     "text": [
      "Statistics=0.9841470718383789, p=0.275211900472641\n",
      "Sample looks Normal (do not reject H0)\n"
     ]
    }
   ],
   "source": [
    "# Check if sample mean distribution is normal, we have to use Shapiro-Wilk test\n",
    "from scipy.stats import shapiro\n",
    "stat, p = shapiro(smplmn)\n",
    "print('Statistics={}, p={}'.format(stat, p))\n",
    "alpha = 0.05\n",
    "# H0: data follow a Normal distribution\n",
    "# H1: data do not follow a Normal distribution\n",
    "if p > alpha:\n",
    "    print('Sample looks Normal (do not reject H0)')\n",
    "else:\n",
    "    print('Sample does not look Normal (reject H0)')"
   ]
  }
 ],
 "metadata": {
  "kernelspec": {
   "display_name": "Python 3",
   "language": "python",
   "name": "python3"
  },
  "language_info": {
   "codemirror_mode": {
    "name": "ipython",
    "version": 3
   },
   "file_extension": ".py",
   "mimetype": "text/x-python",
   "name": "python",
   "nbconvert_exporter": "python",
   "pygments_lexer": "ipython3",
   "version": "3.7.2"
  }
 },
 "nbformat": 4,
 "nbformat_minor": 2
}
